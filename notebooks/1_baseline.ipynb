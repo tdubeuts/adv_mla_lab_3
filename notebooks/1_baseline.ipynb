{
 "cells": [
  {
   "cell_type": "code",
   "execution_count": 1,
   "id": "1706f731-fbcb-47b6-8eb6-75a6a891dfa1",
   "metadata": {},
   "outputs": [],
   "source": [
    "%load_ext autoreload\n",
    "%autoreload 2"
   ]
  },
  {
   "cell_type": "code",
   "execution_count": 19,
   "id": "4be8efe7-b199-49c3-a8ca-9c7ca27aeae3",
   "metadata": {},
   "outputs": [
    {
     "name": "stdout",
     "output_type": "stream",
     "text": [
      "Looking in indexes: https://test.pypi.org/simple/\n",
      "Collecting my-pkg-24542250==2024.0.1.7\n",
      "  Downloading https://test-files.pythonhosted.org/packages/5c/c4/ae360805e46d2d75ebb04452478eb8fd76cc0c11717a746dc5dedebd734c/my_pkg_24542250-2024.0.1.7-py3-none-any.whl.metadata (3.4 kB)\n",
      "Requirement already satisfied: jupyterlab==4.2.3 in /Users/thusondube/Library/Caches/pypoetry/virtualenvs/my-pkg-24542250-SrnsL4_c-py3.10/lib/python3.10/site-packages (from my-pkg-24542250==2024.0.1.7) (4.2.3)\n",
      "Requirement already satisfied: pandas==2.2.2 in /Users/thusondube/Library/Caches/pypoetry/virtualenvs/my-pkg-24542250-SrnsL4_c-py3.10/lib/python3.10/site-packages (from my-pkg-24542250==2024.0.1.7) (2.2.2)\n",
      "Requirement already satisfied: scikit-learn==1.5.1 in /Users/thusondube/Library/Caches/pypoetry/virtualenvs/my-pkg-24542250-SrnsL4_c-py3.10/lib/python3.10/site-packages (from my-pkg-24542250==2024.0.1.7) (1.5.1)\n",
      "Requirement already satisfied: async-lru>=1.0.0 in /Users/thusondube/Library/Caches/pypoetry/virtualenvs/my-pkg-24542250-SrnsL4_c-py3.10/lib/python3.10/site-packages (from jupyterlab==4.2.3->my-pkg-24542250==2024.0.1.7) (2.0.4)\n",
      "Requirement already satisfied: httpx>=0.25.0 in /Users/thusondube/Library/Caches/pypoetry/virtualenvs/my-pkg-24542250-SrnsL4_c-py3.10/lib/python3.10/site-packages (from jupyterlab==4.2.3->my-pkg-24542250==2024.0.1.7) (0.27.2)\n",
      "Requirement already satisfied: ipykernel>=6.5.0 in /Users/thusondube/Library/Caches/pypoetry/virtualenvs/my-pkg-24542250-SrnsL4_c-py3.10/lib/python3.10/site-packages (from jupyterlab==4.2.3->my-pkg-24542250==2024.0.1.7) (6.29.5)\n",
      "Requirement already satisfied: jinja2>=3.0.3 in /Users/thusondube/Library/Caches/pypoetry/virtualenvs/my-pkg-24542250-SrnsL4_c-py3.10/lib/python3.10/site-packages (from jupyterlab==4.2.3->my-pkg-24542250==2024.0.1.7) (3.1.4)\n",
      "Requirement already satisfied: jupyter-core in /Users/thusondube/Library/Caches/pypoetry/virtualenvs/my-pkg-24542250-SrnsL4_c-py3.10/lib/python3.10/site-packages (from jupyterlab==4.2.3->my-pkg-24542250==2024.0.1.7) (5.7.2)\n",
      "Requirement already satisfied: jupyter-lsp>=2.0.0 in /Users/thusondube/Library/Caches/pypoetry/virtualenvs/my-pkg-24542250-SrnsL4_c-py3.10/lib/python3.10/site-packages (from jupyterlab==4.2.3->my-pkg-24542250==2024.0.1.7) (2.2.5)\n",
      "Requirement already satisfied: jupyter-server<3,>=2.4.0 in /Users/thusondube/Library/Caches/pypoetry/virtualenvs/my-pkg-24542250-SrnsL4_c-py3.10/lib/python3.10/site-packages (from jupyterlab==4.2.3->my-pkg-24542250==2024.0.1.7) (2.14.2)\n",
      "Requirement already satisfied: jupyterlab-server<3,>=2.27.1 in /Users/thusondube/Library/Caches/pypoetry/virtualenvs/my-pkg-24542250-SrnsL4_c-py3.10/lib/python3.10/site-packages (from jupyterlab==4.2.3->my-pkg-24542250==2024.0.1.7) (2.27.3)\n",
      "Requirement already satisfied: notebook-shim>=0.2 in /Users/thusondube/Library/Caches/pypoetry/virtualenvs/my-pkg-24542250-SrnsL4_c-py3.10/lib/python3.10/site-packages (from jupyterlab==4.2.3->my-pkg-24542250==2024.0.1.7) (0.2.4)\n",
      "Requirement already satisfied: packaging in /Users/thusondube/Library/Caches/pypoetry/virtualenvs/my-pkg-24542250-SrnsL4_c-py3.10/lib/python3.10/site-packages (from jupyterlab==4.2.3->my-pkg-24542250==2024.0.1.7) (24.1)\n",
      "Requirement already satisfied: setuptools>=40.1.0 in /Users/thusondube/Library/Caches/pypoetry/virtualenvs/my-pkg-24542250-SrnsL4_c-py3.10/lib/python3.10/site-packages (from jupyterlab==4.2.3->my-pkg-24542250==2024.0.1.7) (75.1.0)\n",
      "Requirement already satisfied: tomli>=1.2.2 in /Users/thusondube/Library/Caches/pypoetry/virtualenvs/my-pkg-24542250-SrnsL4_c-py3.10/lib/python3.10/site-packages (from jupyterlab==4.2.3->my-pkg-24542250==2024.0.1.7) (2.0.1)\n",
      "Requirement already satisfied: tornado>=6.2.0 in /Users/thusondube/Library/Caches/pypoetry/virtualenvs/my-pkg-24542250-SrnsL4_c-py3.10/lib/python3.10/site-packages (from jupyterlab==4.2.3->my-pkg-24542250==2024.0.1.7) (6.4.1)\n",
      "Requirement already satisfied: traitlets in /Users/thusondube/Library/Caches/pypoetry/virtualenvs/my-pkg-24542250-SrnsL4_c-py3.10/lib/python3.10/site-packages (from jupyterlab==4.2.3->my-pkg-24542250==2024.0.1.7) (5.14.3)\n",
      "Requirement already satisfied: numpy>=1.22.4 in /Users/thusondube/Library/Caches/pypoetry/virtualenvs/my-pkg-24542250-SrnsL4_c-py3.10/lib/python3.10/site-packages (from pandas==2.2.2->my-pkg-24542250==2024.0.1.7) (2.1.1)\n",
      "Requirement already satisfied: python-dateutil>=2.8.2 in /Users/thusondube/Library/Caches/pypoetry/virtualenvs/my-pkg-24542250-SrnsL4_c-py3.10/lib/python3.10/site-packages (from pandas==2.2.2->my-pkg-24542250==2024.0.1.7) (2.9.0.post0)\n",
      "Requirement already satisfied: pytz>=2020.1 in /Users/thusondube/Library/Caches/pypoetry/virtualenvs/my-pkg-24542250-SrnsL4_c-py3.10/lib/python3.10/site-packages (from pandas==2.2.2->my-pkg-24542250==2024.0.1.7) (2024.2)\n",
      "Requirement already satisfied: tzdata>=2022.7 in /Users/thusondube/Library/Caches/pypoetry/virtualenvs/my-pkg-24542250-SrnsL4_c-py3.10/lib/python3.10/site-packages (from pandas==2.2.2->my-pkg-24542250==2024.0.1.7) (2024.1)\n",
      "Requirement already satisfied: scipy>=1.6.0 in /Users/thusondube/Library/Caches/pypoetry/virtualenvs/my-pkg-24542250-SrnsL4_c-py3.10/lib/python3.10/site-packages (from scikit-learn==1.5.1->my-pkg-24542250==2024.0.1.7) (1.14.1)\n",
      "Requirement already satisfied: joblib>=1.2.0 in /Users/thusondube/Library/Caches/pypoetry/virtualenvs/my-pkg-24542250-SrnsL4_c-py3.10/lib/python3.10/site-packages (from scikit-learn==1.5.1->my-pkg-24542250==2024.0.1.7) (1.4.2)\n",
      "Requirement already satisfied: threadpoolctl>=3.1.0 in /Users/thusondube/Library/Caches/pypoetry/virtualenvs/my-pkg-24542250-SrnsL4_c-py3.10/lib/python3.10/site-packages (from scikit-learn==1.5.1->my-pkg-24542250==2024.0.1.7) (3.5.0)\n",
      "Requirement already satisfied: typing-extensions>=4.0.0 in /Users/thusondube/Library/Caches/pypoetry/virtualenvs/my-pkg-24542250-SrnsL4_c-py3.10/lib/python3.10/site-packages (from async-lru>=1.0.0->jupyterlab==4.2.3->my-pkg-24542250==2024.0.1.7) (4.12.2)\n",
      "Requirement already satisfied: anyio in /Users/thusondube/Library/Caches/pypoetry/virtualenvs/my-pkg-24542250-SrnsL4_c-py3.10/lib/python3.10/site-packages (from httpx>=0.25.0->jupyterlab==4.2.3->my-pkg-24542250==2024.0.1.7) (4.4.0)\n",
      "Requirement already satisfied: certifi in /Users/thusondube/Library/Caches/pypoetry/virtualenvs/my-pkg-24542250-SrnsL4_c-py3.10/lib/python3.10/site-packages (from httpx>=0.25.0->jupyterlab==4.2.3->my-pkg-24542250==2024.0.1.7) (2024.8.30)\n",
      "Requirement already satisfied: httpcore==1.* in /Users/thusondube/Library/Caches/pypoetry/virtualenvs/my-pkg-24542250-SrnsL4_c-py3.10/lib/python3.10/site-packages (from httpx>=0.25.0->jupyterlab==4.2.3->my-pkg-24542250==2024.0.1.7) (1.0.5)\n",
      "Requirement already satisfied: idna in /Users/thusondube/Library/Caches/pypoetry/virtualenvs/my-pkg-24542250-SrnsL4_c-py3.10/lib/python3.10/site-packages (from httpx>=0.25.0->jupyterlab==4.2.3->my-pkg-24542250==2024.0.1.7) (3.10)\n",
      "Requirement already satisfied: sniffio in /Users/thusondube/Library/Caches/pypoetry/virtualenvs/my-pkg-24542250-SrnsL4_c-py3.10/lib/python3.10/site-packages (from httpx>=0.25.0->jupyterlab==4.2.3->my-pkg-24542250==2024.0.1.7) (1.3.1)\n",
      "Requirement already satisfied: h11<0.15,>=0.13 in /Users/thusondube/Library/Caches/pypoetry/virtualenvs/my-pkg-24542250-SrnsL4_c-py3.10/lib/python3.10/site-packages (from httpcore==1.*->httpx>=0.25.0->jupyterlab==4.2.3->my-pkg-24542250==2024.0.1.7) (0.14.0)\n",
      "Requirement already satisfied: appnope in /Users/thusondube/Library/Caches/pypoetry/virtualenvs/my-pkg-24542250-SrnsL4_c-py3.10/lib/python3.10/site-packages (from ipykernel>=6.5.0->jupyterlab==4.2.3->my-pkg-24542250==2024.0.1.7) (0.1.4)\n",
      "Requirement already satisfied: comm>=0.1.1 in /Users/thusondube/Library/Caches/pypoetry/virtualenvs/my-pkg-24542250-SrnsL4_c-py3.10/lib/python3.10/site-packages (from ipykernel>=6.5.0->jupyterlab==4.2.3->my-pkg-24542250==2024.0.1.7) (0.2.2)\n",
      "Requirement already satisfied: debugpy>=1.6.5 in /Users/thusondube/Library/Caches/pypoetry/virtualenvs/my-pkg-24542250-SrnsL4_c-py3.10/lib/python3.10/site-packages (from ipykernel>=6.5.0->jupyterlab==4.2.3->my-pkg-24542250==2024.0.1.7) (1.8.5)\n",
      "Requirement already satisfied: ipython>=7.23.1 in /Users/thusondube/Library/Caches/pypoetry/virtualenvs/my-pkg-24542250-SrnsL4_c-py3.10/lib/python3.10/site-packages (from ipykernel>=6.5.0->jupyterlab==4.2.3->my-pkg-24542250==2024.0.1.7) (8.27.0)\n",
      "Requirement already satisfied: jupyter-client>=6.1.12 in /Users/thusondube/Library/Caches/pypoetry/virtualenvs/my-pkg-24542250-SrnsL4_c-py3.10/lib/python3.10/site-packages (from ipykernel>=6.5.0->jupyterlab==4.2.3->my-pkg-24542250==2024.0.1.7) (8.6.3)\n",
      "Requirement already satisfied: matplotlib-inline>=0.1 in /Users/thusondube/Library/Caches/pypoetry/virtualenvs/my-pkg-24542250-SrnsL4_c-py3.10/lib/python3.10/site-packages (from ipykernel>=6.5.0->jupyterlab==4.2.3->my-pkg-24542250==2024.0.1.7) (0.1.7)\n",
      "Requirement already satisfied: nest-asyncio in /Users/thusondube/Library/Caches/pypoetry/virtualenvs/my-pkg-24542250-SrnsL4_c-py3.10/lib/python3.10/site-packages (from ipykernel>=6.5.0->jupyterlab==4.2.3->my-pkg-24542250==2024.0.1.7) (1.6.0)\n",
      "Requirement already satisfied: psutil in /Users/thusondube/Library/Caches/pypoetry/virtualenvs/my-pkg-24542250-SrnsL4_c-py3.10/lib/python3.10/site-packages (from ipykernel>=6.5.0->jupyterlab==4.2.3->my-pkg-24542250==2024.0.1.7) (6.0.0)\n",
      "Requirement already satisfied: pyzmq>=24 in /Users/thusondube/Library/Caches/pypoetry/virtualenvs/my-pkg-24542250-SrnsL4_c-py3.10/lib/python3.10/site-packages (from ipykernel>=6.5.0->jupyterlab==4.2.3->my-pkg-24542250==2024.0.1.7) (26.2.0)\n",
      "Requirement already satisfied: MarkupSafe>=2.0 in /Users/thusondube/Library/Caches/pypoetry/virtualenvs/my-pkg-24542250-SrnsL4_c-py3.10/lib/python3.10/site-packages (from jinja2>=3.0.3->jupyterlab==4.2.3->my-pkg-24542250==2024.0.1.7) (2.1.5)\n",
      "Requirement already satisfied: platformdirs>=2.5 in /Users/thusondube/Library/Caches/pypoetry/virtualenvs/my-pkg-24542250-SrnsL4_c-py3.10/lib/python3.10/site-packages (from jupyter-core->jupyterlab==4.2.3->my-pkg-24542250==2024.0.1.7) (4.3.6)\n",
      "Requirement already satisfied: argon2-cffi>=21.1 in /Users/thusondube/Library/Caches/pypoetry/virtualenvs/my-pkg-24542250-SrnsL4_c-py3.10/lib/python3.10/site-packages (from jupyter-server<3,>=2.4.0->jupyterlab==4.2.3->my-pkg-24542250==2024.0.1.7) (23.1.0)\n",
      "Requirement already satisfied: jupyter-events>=0.9.0 in /Users/thusondube/Library/Caches/pypoetry/virtualenvs/my-pkg-24542250-SrnsL4_c-py3.10/lib/python3.10/site-packages (from jupyter-server<3,>=2.4.0->jupyterlab==4.2.3->my-pkg-24542250==2024.0.1.7) (0.10.0)\n",
      "Requirement already satisfied: jupyter-server-terminals>=0.4.4 in /Users/thusondube/Library/Caches/pypoetry/virtualenvs/my-pkg-24542250-SrnsL4_c-py3.10/lib/python3.10/site-packages (from jupyter-server<3,>=2.4.0->jupyterlab==4.2.3->my-pkg-24542250==2024.0.1.7) (0.5.3)\n",
      "Requirement already satisfied: nbconvert>=6.4.4 in /Users/thusondube/Library/Caches/pypoetry/virtualenvs/my-pkg-24542250-SrnsL4_c-py3.10/lib/python3.10/site-packages (from jupyter-server<3,>=2.4.0->jupyterlab==4.2.3->my-pkg-24542250==2024.0.1.7) (7.16.4)\n",
      "Requirement already satisfied: nbformat>=5.3.0 in /Users/thusondube/Library/Caches/pypoetry/virtualenvs/my-pkg-24542250-SrnsL4_c-py3.10/lib/python3.10/site-packages (from jupyter-server<3,>=2.4.0->jupyterlab==4.2.3->my-pkg-24542250==2024.0.1.7) (5.10.4)\n",
      "Requirement already satisfied: overrides>=5.0 in /Users/thusondube/Library/Caches/pypoetry/virtualenvs/my-pkg-24542250-SrnsL4_c-py3.10/lib/python3.10/site-packages (from jupyter-server<3,>=2.4.0->jupyterlab==4.2.3->my-pkg-24542250==2024.0.1.7) (7.7.0)\n",
      "Requirement already satisfied: prometheus-client>=0.9 in /Users/thusondube/Library/Caches/pypoetry/virtualenvs/my-pkg-24542250-SrnsL4_c-py3.10/lib/python3.10/site-packages (from jupyter-server<3,>=2.4.0->jupyterlab==4.2.3->my-pkg-24542250==2024.0.1.7) (0.20.0)\n",
      "Requirement already satisfied: send2trash>=1.8.2 in /Users/thusondube/Library/Caches/pypoetry/virtualenvs/my-pkg-24542250-SrnsL4_c-py3.10/lib/python3.10/site-packages (from jupyter-server<3,>=2.4.0->jupyterlab==4.2.3->my-pkg-24542250==2024.0.1.7) (1.8.3)\n",
      "Requirement already satisfied: terminado>=0.8.3 in /Users/thusondube/Library/Caches/pypoetry/virtualenvs/my-pkg-24542250-SrnsL4_c-py3.10/lib/python3.10/site-packages (from jupyter-server<3,>=2.4.0->jupyterlab==4.2.3->my-pkg-24542250==2024.0.1.7) (0.18.1)\n",
      "Requirement already satisfied: websocket-client>=1.7 in /Users/thusondube/Library/Caches/pypoetry/virtualenvs/my-pkg-24542250-SrnsL4_c-py3.10/lib/python3.10/site-packages (from jupyter-server<3,>=2.4.0->jupyterlab==4.2.3->my-pkg-24542250==2024.0.1.7) (1.8.0)\n",
      "Requirement already satisfied: babel>=2.10 in /Users/thusondube/Library/Caches/pypoetry/virtualenvs/my-pkg-24542250-SrnsL4_c-py3.10/lib/python3.10/site-packages (from jupyterlab-server<3,>=2.27.1->jupyterlab==4.2.3->my-pkg-24542250==2024.0.1.7) (2.16.0)\n",
      "Requirement already satisfied: json5>=0.9.0 in /Users/thusondube/Library/Caches/pypoetry/virtualenvs/my-pkg-24542250-SrnsL4_c-py3.10/lib/python3.10/site-packages (from jupyterlab-server<3,>=2.27.1->jupyterlab==4.2.3->my-pkg-24542250==2024.0.1.7) (0.9.25)\n",
      "Requirement already satisfied: jsonschema>=4.18.0 in /Users/thusondube/Library/Caches/pypoetry/virtualenvs/my-pkg-24542250-SrnsL4_c-py3.10/lib/python3.10/site-packages (from jupyterlab-server<3,>=2.27.1->jupyterlab==4.2.3->my-pkg-24542250==2024.0.1.7) (4.23.0)\n",
      "Requirement already satisfied: requests>=2.31 in /Users/thusondube/Library/Caches/pypoetry/virtualenvs/my-pkg-24542250-SrnsL4_c-py3.10/lib/python3.10/site-packages (from jupyterlab-server<3,>=2.27.1->jupyterlab==4.2.3->my-pkg-24542250==2024.0.1.7) (2.32.3)\n",
      "Requirement already satisfied: six>=1.5 in /Users/thusondube/Library/Caches/pypoetry/virtualenvs/my-pkg-24542250-SrnsL4_c-py3.10/lib/python3.10/site-packages (from python-dateutil>=2.8.2->pandas==2.2.2->my-pkg-24542250==2024.0.1.7) (1.16.0)\n",
      "Requirement already satisfied: exceptiongroup>=1.0.2 in /Users/thusondube/Library/Caches/pypoetry/virtualenvs/my-pkg-24542250-SrnsL4_c-py3.10/lib/python3.10/site-packages (from anyio->httpx>=0.25.0->jupyterlab==4.2.3->my-pkg-24542250==2024.0.1.7) (1.2.2)\n",
      "Requirement already satisfied: argon2-cffi-bindings in /Users/thusondube/Library/Caches/pypoetry/virtualenvs/my-pkg-24542250-SrnsL4_c-py3.10/lib/python3.10/site-packages (from argon2-cffi>=21.1->jupyter-server<3,>=2.4.0->jupyterlab==4.2.3->my-pkg-24542250==2024.0.1.7) (21.2.0)\n",
      "Requirement already satisfied: decorator in /Users/thusondube/Library/Caches/pypoetry/virtualenvs/my-pkg-24542250-SrnsL4_c-py3.10/lib/python3.10/site-packages (from ipython>=7.23.1->ipykernel>=6.5.0->jupyterlab==4.2.3->my-pkg-24542250==2024.0.1.7) (5.1.1)\n",
      "Requirement already satisfied: jedi>=0.16 in /Users/thusondube/Library/Caches/pypoetry/virtualenvs/my-pkg-24542250-SrnsL4_c-py3.10/lib/python3.10/site-packages (from ipython>=7.23.1->ipykernel>=6.5.0->jupyterlab==4.2.3->my-pkg-24542250==2024.0.1.7) (0.19.1)\n",
      "Requirement already satisfied: prompt-toolkit<3.1.0,>=3.0.41 in /Users/thusondube/Library/Caches/pypoetry/virtualenvs/my-pkg-24542250-SrnsL4_c-py3.10/lib/python3.10/site-packages (from ipython>=7.23.1->ipykernel>=6.5.0->jupyterlab==4.2.3->my-pkg-24542250==2024.0.1.7) (3.0.47)\n",
      "Requirement already satisfied: pygments>=2.4.0 in /Users/thusondube/Library/Caches/pypoetry/virtualenvs/my-pkg-24542250-SrnsL4_c-py3.10/lib/python3.10/site-packages (from ipython>=7.23.1->ipykernel>=6.5.0->jupyterlab==4.2.3->my-pkg-24542250==2024.0.1.7) (2.18.0)\n",
      "Requirement already satisfied: stack-data in /Users/thusondube/Library/Caches/pypoetry/virtualenvs/my-pkg-24542250-SrnsL4_c-py3.10/lib/python3.10/site-packages (from ipython>=7.23.1->ipykernel>=6.5.0->jupyterlab==4.2.3->my-pkg-24542250==2024.0.1.7) (0.6.3)\n",
      "Requirement already satisfied: pexpect>4.3 in /Users/thusondube/Library/Caches/pypoetry/virtualenvs/my-pkg-24542250-SrnsL4_c-py3.10/lib/python3.10/site-packages (from ipython>=7.23.1->ipykernel>=6.5.0->jupyterlab==4.2.3->my-pkg-24542250==2024.0.1.7) (4.9.0)\n",
      "Requirement already satisfied: attrs>=22.2.0 in /Users/thusondube/Library/Caches/pypoetry/virtualenvs/my-pkg-24542250-SrnsL4_c-py3.10/lib/python3.10/site-packages (from jsonschema>=4.18.0->jupyterlab-server<3,>=2.27.1->jupyterlab==4.2.3->my-pkg-24542250==2024.0.1.7) (24.2.0)\n",
      "Requirement already satisfied: jsonschema-specifications>=2023.03.6 in /Users/thusondube/Library/Caches/pypoetry/virtualenvs/my-pkg-24542250-SrnsL4_c-py3.10/lib/python3.10/site-packages (from jsonschema>=4.18.0->jupyterlab-server<3,>=2.27.1->jupyterlab==4.2.3->my-pkg-24542250==2024.0.1.7) (2023.12.1)\n",
      "Requirement already satisfied: referencing>=0.28.4 in /Users/thusondube/Library/Caches/pypoetry/virtualenvs/my-pkg-24542250-SrnsL4_c-py3.10/lib/python3.10/site-packages (from jsonschema>=4.18.0->jupyterlab-server<3,>=2.27.1->jupyterlab==4.2.3->my-pkg-24542250==2024.0.1.7) (0.35.1)\n",
      "Requirement already satisfied: rpds-py>=0.7.1 in /Users/thusondube/Library/Caches/pypoetry/virtualenvs/my-pkg-24542250-SrnsL4_c-py3.10/lib/python3.10/site-packages (from jsonschema>=4.18.0->jupyterlab-server<3,>=2.27.1->jupyterlab==4.2.3->my-pkg-24542250==2024.0.1.7) (0.20.0)\n",
      "Requirement already satisfied: python-json-logger>=2.0.4 in /Users/thusondube/Library/Caches/pypoetry/virtualenvs/my-pkg-24542250-SrnsL4_c-py3.10/lib/python3.10/site-packages (from jupyter-events>=0.9.0->jupyter-server<3,>=2.4.0->jupyterlab==4.2.3->my-pkg-24542250==2024.0.1.7) (2.0.7)\n",
      "Requirement already satisfied: pyyaml>=5.3 in /Users/thusondube/Library/Caches/pypoetry/virtualenvs/my-pkg-24542250-SrnsL4_c-py3.10/lib/python3.10/site-packages (from jupyter-events>=0.9.0->jupyter-server<3,>=2.4.0->jupyterlab==4.2.3->my-pkg-24542250==2024.0.1.7) (6.0.2)\n",
      "Requirement already satisfied: rfc3339-validator in /Users/thusondube/Library/Caches/pypoetry/virtualenvs/my-pkg-24542250-SrnsL4_c-py3.10/lib/python3.10/site-packages (from jupyter-events>=0.9.0->jupyter-server<3,>=2.4.0->jupyterlab==4.2.3->my-pkg-24542250==2024.0.1.7) (0.1.4)\n",
      "Requirement already satisfied: rfc3986-validator>=0.1.1 in /Users/thusondube/Library/Caches/pypoetry/virtualenvs/my-pkg-24542250-SrnsL4_c-py3.10/lib/python3.10/site-packages (from jupyter-events>=0.9.0->jupyter-server<3,>=2.4.0->jupyterlab==4.2.3->my-pkg-24542250==2024.0.1.7) (0.1.1)\n",
      "Requirement already satisfied: beautifulsoup4 in /Users/thusondube/Library/Caches/pypoetry/virtualenvs/my-pkg-24542250-SrnsL4_c-py3.10/lib/python3.10/site-packages (from nbconvert>=6.4.4->jupyter-server<3,>=2.4.0->jupyterlab==4.2.3->my-pkg-24542250==2024.0.1.7) (4.12.3)\n",
      "Requirement already satisfied: bleach!=5.0.0 in /Users/thusondube/Library/Caches/pypoetry/virtualenvs/my-pkg-24542250-SrnsL4_c-py3.10/lib/python3.10/site-packages (from nbconvert>=6.4.4->jupyter-server<3,>=2.4.0->jupyterlab==4.2.3->my-pkg-24542250==2024.0.1.7) (6.1.0)\n",
      "Requirement already satisfied: defusedxml in /Users/thusondube/Library/Caches/pypoetry/virtualenvs/my-pkg-24542250-SrnsL4_c-py3.10/lib/python3.10/site-packages (from nbconvert>=6.4.4->jupyter-server<3,>=2.4.0->jupyterlab==4.2.3->my-pkg-24542250==2024.0.1.7) (0.7.1)\n",
      "Requirement already satisfied: jupyterlab-pygments in /Users/thusondube/Library/Caches/pypoetry/virtualenvs/my-pkg-24542250-SrnsL4_c-py3.10/lib/python3.10/site-packages (from nbconvert>=6.4.4->jupyter-server<3,>=2.4.0->jupyterlab==4.2.3->my-pkg-24542250==2024.0.1.7) (0.3.0)\n",
      "Requirement already satisfied: mistune<4,>=2.0.3 in /Users/thusondube/Library/Caches/pypoetry/virtualenvs/my-pkg-24542250-SrnsL4_c-py3.10/lib/python3.10/site-packages (from nbconvert>=6.4.4->jupyter-server<3,>=2.4.0->jupyterlab==4.2.3->my-pkg-24542250==2024.0.1.7) (3.0.2)\n",
      "Requirement already satisfied: nbclient>=0.5.0 in /Users/thusondube/Library/Caches/pypoetry/virtualenvs/my-pkg-24542250-SrnsL4_c-py3.10/lib/python3.10/site-packages (from nbconvert>=6.4.4->jupyter-server<3,>=2.4.0->jupyterlab==4.2.3->my-pkg-24542250==2024.0.1.7) (0.10.0)\n",
      "Requirement already satisfied: pandocfilters>=1.4.1 in /Users/thusondube/Library/Caches/pypoetry/virtualenvs/my-pkg-24542250-SrnsL4_c-py3.10/lib/python3.10/site-packages (from nbconvert>=6.4.4->jupyter-server<3,>=2.4.0->jupyterlab==4.2.3->my-pkg-24542250==2024.0.1.7) (1.5.1)\n",
      "Requirement already satisfied: tinycss2 in /Users/thusondube/Library/Caches/pypoetry/virtualenvs/my-pkg-24542250-SrnsL4_c-py3.10/lib/python3.10/site-packages (from nbconvert>=6.4.4->jupyter-server<3,>=2.4.0->jupyterlab==4.2.3->my-pkg-24542250==2024.0.1.7) (1.3.0)\n",
      "Requirement already satisfied: fastjsonschema>=2.15 in /Users/thusondube/Library/Caches/pypoetry/virtualenvs/my-pkg-24542250-SrnsL4_c-py3.10/lib/python3.10/site-packages (from nbformat>=5.3.0->jupyter-server<3,>=2.4.0->jupyterlab==4.2.3->my-pkg-24542250==2024.0.1.7) (2.20.0)\n",
      "Requirement already satisfied: charset-normalizer<4,>=2 in /Users/thusondube/Library/Caches/pypoetry/virtualenvs/my-pkg-24542250-SrnsL4_c-py3.10/lib/python3.10/site-packages (from requests>=2.31->jupyterlab-server<3,>=2.27.1->jupyterlab==4.2.3->my-pkg-24542250==2024.0.1.7) (3.3.2)\n",
      "Requirement already satisfied: urllib3<3,>=1.21.1 in /Users/thusondube/Library/Caches/pypoetry/virtualenvs/my-pkg-24542250-SrnsL4_c-py3.10/lib/python3.10/site-packages (from requests>=2.31->jupyterlab-server<3,>=2.27.1->jupyterlab==4.2.3->my-pkg-24542250==2024.0.1.7) (2.2.3)\n",
      "Requirement already satisfied: ptyprocess in /Users/thusondube/Library/Caches/pypoetry/virtualenvs/my-pkg-24542250-SrnsL4_c-py3.10/lib/python3.10/site-packages (from terminado>=0.8.3->jupyter-server<3,>=2.4.0->jupyterlab==4.2.3->my-pkg-24542250==2024.0.1.7) (0.7.0)\n",
      "Requirement already satisfied: webencodings in /Users/thusondube/Library/Caches/pypoetry/virtualenvs/my-pkg-24542250-SrnsL4_c-py3.10/lib/python3.10/site-packages (from bleach!=5.0.0->nbconvert>=6.4.4->jupyter-server<3,>=2.4.0->jupyterlab==4.2.3->my-pkg-24542250==2024.0.1.7) (0.5.1)\n",
      "Requirement already satisfied: parso<0.9.0,>=0.8.3 in /Users/thusondube/Library/Caches/pypoetry/virtualenvs/my-pkg-24542250-SrnsL4_c-py3.10/lib/python3.10/site-packages (from jedi>=0.16->ipython>=7.23.1->ipykernel>=6.5.0->jupyterlab==4.2.3->my-pkg-24542250==2024.0.1.7) (0.8.4)\n",
      "Requirement already satisfied: fqdn in /Users/thusondube/Library/Caches/pypoetry/virtualenvs/my-pkg-24542250-SrnsL4_c-py3.10/lib/python3.10/site-packages (from jsonschema[format-nongpl]>=4.18.0->jupyter-events>=0.9.0->jupyter-server<3,>=2.4.0->jupyterlab==4.2.3->my-pkg-24542250==2024.0.1.7) (1.5.1)\n",
      "Requirement already satisfied: isoduration in /Users/thusondube/Library/Caches/pypoetry/virtualenvs/my-pkg-24542250-SrnsL4_c-py3.10/lib/python3.10/site-packages (from jsonschema[format-nongpl]>=4.18.0->jupyter-events>=0.9.0->jupyter-server<3,>=2.4.0->jupyterlab==4.2.3->my-pkg-24542250==2024.0.1.7) (20.11.0)\n",
      "Requirement already satisfied: jsonpointer>1.13 in /Users/thusondube/Library/Caches/pypoetry/virtualenvs/my-pkg-24542250-SrnsL4_c-py3.10/lib/python3.10/site-packages (from jsonschema[format-nongpl]>=4.18.0->jupyter-events>=0.9.0->jupyter-server<3,>=2.4.0->jupyterlab==4.2.3->my-pkg-24542250==2024.0.1.7) (3.0.0)\n",
      "Requirement already satisfied: uri-template in /Users/thusondube/Library/Caches/pypoetry/virtualenvs/my-pkg-24542250-SrnsL4_c-py3.10/lib/python3.10/site-packages (from jsonschema[format-nongpl]>=4.18.0->jupyter-events>=0.9.0->jupyter-server<3,>=2.4.0->jupyterlab==4.2.3->my-pkg-24542250==2024.0.1.7) (1.3.0)\n",
      "Requirement already satisfied: webcolors>=24.6.0 in /Users/thusondube/Library/Caches/pypoetry/virtualenvs/my-pkg-24542250-SrnsL4_c-py3.10/lib/python3.10/site-packages (from jsonschema[format-nongpl]>=4.18.0->jupyter-events>=0.9.0->jupyter-server<3,>=2.4.0->jupyterlab==4.2.3->my-pkg-24542250==2024.0.1.7) (24.8.0)\n",
      "Requirement already satisfied: wcwidth in /Users/thusondube/Library/Caches/pypoetry/virtualenvs/my-pkg-24542250-SrnsL4_c-py3.10/lib/python3.10/site-packages (from prompt-toolkit<3.1.0,>=3.0.41->ipython>=7.23.1->ipykernel>=6.5.0->jupyterlab==4.2.3->my-pkg-24542250==2024.0.1.7) (0.2.13)\n",
      "Requirement already satisfied: cffi>=1.0.1 in /Users/thusondube/Library/Caches/pypoetry/virtualenvs/my-pkg-24542250-SrnsL4_c-py3.10/lib/python3.10/site-packages (from argon2-cffi-bindings->argon2-cffi>=21.1->jupyter-server<3,>=2.4.0->jupyterlab==4.2.3->my-pkg-24542250==2024.0.1.7) (1.17.1)\n",
      "Requirement already satisfied: soupsieve>1.2 in /Users/thusondube/Library/Caches/pypoetry/virtualenvs/my-pkg-24542250-SrnsL4_c-py3.10/lib/python3.10/site-packages (from beautifulsoup4->nbconvert>=6.4.4->jupyter-server<3,>=2.4.0->jupyterlab==4.2.3->my-pkg-24542250==2024.0.1.7) (2.6)\n",
      "Requirement already satisfied: executing>=1.2.0 in /Users/thusondube/Library/Caches/pypoetry/virtualenvs/my-pkg-24542250-SrnsL4_c-py3.10/lib/python3.10/site-packages (from stack-data->ipython>=7.23.1->ipykernel>=6.5.0->jupyterlab==4.2.3->my-pkg-24542250==2024.0.1.7) (2.1.0)\n",
      "Requirement already satisfied: asttokens>=2.1.0 in /Users/thusondube/Library/Caches/pypoetry/virtualenvs/my-pkg-24542250-SrnsL4_c-py3.10/lib/python3.10/site-packages (from stack-data->ipython>=7.23.1->ipykernel>=6.5.0->jupyterlab==4.2.3->my-pkg-24542250==2024.0.1.7) (2.4.1)\n",
      "Requirement already satisfied: pure-eval in /Users/thusondube/Library/Caches/pypoetry/virtualenvs/my-pkg-24542250-SrnsL4_c-py3.10/lib/python3.10/site-packages (from stack-data->ipython>=7.23.1->ipykernel>=6.5.0->jupyterlab==4.2.3->my-pkg-24542250==2024.0.1.7) (0.2.3)\n",
      "Requirement already satisfied: pycparser in /Users/thusondube/Library/Caches/pypoetry/virtualenvs/my-pkg-24542250-SrnsL4_c-py3.10/lib/python3.10/site-packages (from cffi>=1.0.1->argon2-cffi-bindings->argon2-cffi>=21.1->jupyter-server<3,>=2.4.0->jupyterlab==4.2.3->my-pkg-24542250==2024.0.1.7) (2.22)\n",
      "Requirement already satisfied: arrow>=0.15.0 in /Users/thusondube/Library/Caches/pypoetry/virtualenvs/my-pkg-24542250-SrnsL4_c-py3.10/lib/python3.10/site-packages (from isoduration->jsonschema[format-nongpl]>=4.18.0->jupyter-events>=0.9.0->jupyter-server<3,>=2.4.0->jupyterlab==4.2.3->my-pkg-24542250==2024.0.1.7) (1.3.0)\n",
      "Requirement already satisfied: types-python-dateutil>=2.8.10 in /Users/thusondube/Library/Caches/pypoetry/virtualenvs/my-pkg-24542250-SrnsL4_c-py3.10/lib/python3.10/site-packages (from arrow>=0.15.0->isoduration->jsonschema[format-nongpl]>=4.18.0->jupyter-events>=0.9.0->jupyter-server<3,>=2.4.0->jupyterlab==4.2.3->my-pkg-24542250==2024.0.1.7) (2.9.0.20240906)\n",
      "Downloading https://test-files.pythonhosted.org/packages/5c/c4/ae360805e46d2d75ebb04452478eb8fd76cc0c11717a746dc5dedebd734c/my_pkg_24542250-2024.0.1.7-py3-none-any.whl (6.3 kB)\n",
      "Installing collected packages: my-pkg-24542250\n",
      "  Attempting uninstall: my-pkg-24542250\n",
      "    Found existing installation: my-pkg-24542250 2024.0.1.5\n",
      "    Uninstalling my-pkg-24542250-2024.0.1.5:\n",
      "      Successfully uninstalled my-pkg-24542250-2024.0.1.5\n",
      "Successfully installed my-pkg-24542250-2024.0.1.7\n"
     ]
    }
   ],
   "source": [
    "! pip install -i https://test.pypi.org/simple/ my-pkg-24542250==2024.0.1.7"
   ]
  },
  {
   "cell_type": "code",
   "execution_count": 23,
   "id": "e6d6d371-ce8f-4370-9046-067375b9f853",
   "metadata": {},
   "outputs": [],
   "source": [
    "import pandas as pd\n",
    "import numpy as np"
   ]
  },
  {
   "cell_type": "code",
   "execution_count": 24,
   "id": "3acf5135-c3a2-418e-b1d0-65484cdb26f6",
   "metadata": {},
   "outputs": [],
   "source": [
    "df = pd.read_csv('../data/raw/CVD_Cleaned.csv')"
   ]
  },
  {
   "cell_type": "code",
   "execution_count": 25,
   "id": "d99fe675-ff76-4624-843c-360f0c59e3d0",
   "metadata": {},
   "outputs": [],
   "source": [
    "df_cleaned = df.copy()"
   ]
  },
  {
   "cell_type": "code",
   "execution_count": 26,
   "id": "776dd2a2-e91c-4bc6-88a9-d4f97991dcd9",
   "metadata": {},
   "outputs": [],
   "source": [
    "target = df_cleaned.pop('Heart_Disease')\n",
    "target = target.map({'Yes': 1, 'No': 0})"
   ]
  },
  {
   "cell_type": "code",
   "execution_count": 29,
   "id": "2f632023-3cde-426f-8278-a28b430bb587",
   "metadata": {},
   "outputs": [],
   "source": [
    "from my_pkg_24542250.src.data.sets import split_sets_random\n",
    "\n",
    "X_train, y_train, X_val, y_val, X_test, y_test = split_sets_random(df_cleaned, target, test_ratio=0.2)"
   ]
  },
  {
   "cell_type": "code",
   "execution_count": 31,
   "id": "d9ad03b8-5d21-47e1-9a8e-927c010cb3f4",
   "metadata": {},
   "outputs": [],
   "source": [
    "from my_pkg_24542250.src.data.sets import save_sets\n",
    "\n",
    "save_sets(X_train, y_train, X_val, y_val, X_test, y_test, path='../data/processed/')"
   ]
  },
  {
   "cell_type": "code",
   "execution_count": 33,
   "id": "965d5385-fde2-40d1-b214-a517c5d3235b",
   "metadata": {},
   "outputs": [],
   "source": [
    "from my_pkg_24542250.src.models.null import NullClassifier"
   ]
  },
  {
   "cell_type": "code",
   "execution_count": 34,
   "id": "1198e1c8-5b89-4a64-a199-4b144f76826e",
   "metadata": {},
   "outputs": [],
   "source": [
    "base_model = NullClassifier()"
   ]
  },
  {
   "cell_type": "code",
   "execution_count": 35,
   "id": "dc5a6236-7472-40f9-ae38-f80c34dd8b63",
   "metadata": {},
   "outputs": [],
   "source": [
    "y_base = base_model.fit_predict(y_train)"
   ]
  }
 ],
 "metadata": {
  "kernelspec": {
   "display_name": "Python 3 (ipykernel)",
   "language": "python",
   "name": "python3"
  },
  "language_info": {
   "codemirror_mode": {
    "name": "ipython",
    "version": 3
   },
   "file_extension": ".py",
   "mimetype": "text/x-python",
   "name": "python",
   "nbconvert_exporter": "python",
   "pygments_lexer": "ipython3",
   "version": "3.10.7"
  }
 },
 "nbformat": 4,
 "nbformat_minor": 5
}
